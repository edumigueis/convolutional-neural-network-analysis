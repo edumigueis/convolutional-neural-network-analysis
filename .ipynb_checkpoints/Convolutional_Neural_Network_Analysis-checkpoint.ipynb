{
 "cells": [
  {
   "cell_type": "markdown",
   "id": "5464a935",
   "metadata": {},
   "source": [
    "# Análise de Rede Neural Convolucional\n",
    "\n",
    "A análise "
   ]
  },
  {
   "cell_type": "code",
   "execution_count": null,
   "id": "3b089a95",
   "metadata": {},
   "outputs": [],
   "source": []
  }
 ],
 "metadata": {
  "kernelspec": {
   "display_name": "Python 3 (ipykernel)",
   "language": "python",
   "name": "python3"
  },
  "language_info": {
   "codemirror_mode": {
    "name": "ipython",
    "version": 3
   },
   "file_extension": ".py",
   "mimetype": "text/x-python",
   "name": "python",
   "nbconvert_exporter": "python",
   "pygments_lexer": "ipython3",
   "version": "3.10.0"
  }
 },
 "nbformat": 4,
 "nbformat_minor": 5
}
